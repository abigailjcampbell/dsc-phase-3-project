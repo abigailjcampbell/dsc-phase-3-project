{
 "cells": [
  {
   "cell_type": "markdown",
   "metadata": {},
   "source": [
    "## Final Project Submission\n",
    "\n",
    "Please fill out:\n",
    "* Student name: Abigail Campbell\n",
    "* Student pace: Flex\n",
    "* Scheduled project review date/time:\n",
    "* Instructor name: Morgan Jones\n",
    "* Blog post URL: \n"
   ]
  },
  {
   "cell_type": "markdown",
   "metadata": {},
   "source": [
    "# Business Problem\n",
    "\n"
   ]
  },
  {
   "cell_type": "markdown",
   "metadata": {},
   "source": [
    "## The Data\n",
    "\n"
   ]
  },
  {
   "cell_type": "markdown",
   "metadata": {},
   "source": [
    "# Setup"
   ]
  },
  {
   "cell_type": "markdown",
   "metadata": {},
   "source": [
    "### Import relevant packages"
   ]
  },
  {
   "cell_type": "code",
   "execution_count": 1,
   "metadata": {},
   "outputs": [],
   "source": [
    "import sqlite3 \n",
    "import pandas as pd\n",
    "import numpy as np\n",
    "import scipy.stats as stats\n",
    "import statsmodels.api as sm\n",
    "\n",
    "from sklearn.preprocessing import OneHotEncoder\n",
    "from sklearn.tree import DecisionTreeRegressor, DecisionTreeClassifier\n",
    "from sklearn.model_selection import train_test_split\n",
    "from sklearn.metrics import mean_squared_error, r2_score, roc_curve, auc, confusion_matrix, ConfusionMatrixDisplay, accuracy_score, precision_score, recall_score\n",
    "\n",
    "import seaborn as sns\n",
    "import matplotlib.pyplot as plt\n",
    "# plt.style.use('seaborn-v0_8-whitegrid')\n",
    "%matplotlib inline"
   ]
  },
  {
   "cell_type": "markdown",
   "metadata": {},
   "source": [
    "# Load and Clean Data"
   ]
  },
  {
   "cell_type": "markdown",
   "metadata": {},
   "source": [
    "## Training values set"
   ]
  },
  {
   "cell_type": "code",
   "execution_count": 2,
   "metadata": {},
   "outputs": [
    {
     "name": "stdout",
     "output_type": "stream",
     "text": [
      "59400\n"
     ]
    },
    {
     "data": {
      "text/html": [
       "<div>\n",
       "<style scoped>\n",
       "    .dataframe tbody tr th:only-of-type {\n",
       "        vertical-align: middle;\n",
       "    }\n",
       "\n",
       "    .dataframe tbody tr th {\n",
       "        vertical-align: top;\n",
       "    }\n",
       "\n",
       "    .dataframe thead th {\n",
       "        text-align: right;\n",
       "    }\n",
       "</style>\n",
       "<table border=\"1\" class=\"dataframe\">\n",
       "  <thead>\n",
       "    <tr style=\"text-align: right;\">\n",
       "      <th></th>\n",
       "      <th>id</th>\n",
       "      <th>amount_tsh</th>\n",
       "      <th>date_recorded</th>\n",
       "      <th>funder</th>\n",
       "      <th>gps_height</th>\n",
       "      <th>installer</th>\n",
       "      <th>longitude</th>\n",
       "      <th>latitude</th>\n",
       "      <th>wpt_name</th>\n",
       "      <th>num_private</th>\n",
       "      <th>...</th>\n",
       "      <th>payment_type</th>\n",
       "      <th>water_quality</th>\n",
       "      <th>quality_group</th>\n",
       "      <th>quantity</th>\n",
       "      <th>quantity_group</th>\n",
       "      <th>source</th>\n",
       "      <th>source_type</th>\n",
       "      <th>source_class</th>\n",
       "      <th>waterpoint_type</th>\n",
       "      <th>waterpoint_type_group</th>\n",
       "    </tr>\n",
       "  </thead>\n",
       "  <tbody>\n",
       "    <tr>\n",
       "      <th>0</th>\n",
       "      <td>69572</td>\n",
       "      <td>6000.0</td>\n",
       "      <td>2011-03-14</td>\n",
       "      <td>Roman</td>\n",
       "      <td>1390</td>\n",
       "      <td>Roman</td>\n",
       "      <td>34.938093</td>\n",
       "      <td>-9.856322</td>\n",
       "      <td>none</td>\n",
       "      <td>0</td>\n",
       "      <td>...</td>\n",
       "      <td>annually</td>\n",
       "      <td>soft</td>\n",
       "      <td>good</td>\n",
       "      <td>enough</td>\n",
       "      <td>enough</td>\n",
       "      <td>spring</td>\n",
       "      <td>spring</td>\n",
       "      <td>groundwater</td>\n",
       "      <td>communal standpipe</td>\n",
       "      <td>communal standpipe</td>\n",
       "    </tr>\n",
       "    <tr>\n",
       "      <th>1</th>\n",
       "      <td>8776</td>\n",
       "      <td>0.0</td>\n",
       "      <td>2013-03-06</td>\n",
       "      <td>Grumeti</td>\n",
       "      <td>1399</td>\n",
       "      <td>GRUMETI</td>\n",
       "      <td>34.698766</td>\n",
       "      <td>-2.147466</td>\n",
       "      <td>Zahanati</td>\n",
       "      <td>0</td>\n",
       "      <td>...</td>\n",
       "      <td>never pay</td>\n",
       "      <td>soft</td>\n",
       "      <td>good</td>\n",
       "      <td>insufficient</td>\n",
       "      <td>insufficient</td>\n",
       "      <td>rainwater harvesting</td>\n",
       "      <td>rainwater harvesting</td>\n",
       "      <td>surface</td>\n",
       "      <td>communal standpipe</td>\n",
       "      <td>communal standpipe</td>\n",
       "    </tr>\n",
       "    <tr>\n",
       "      <th>2</th>\n",
       "      <td>34310</td>\n",
       "      <td>25.0</td>\n",
       "      <td>2013-02-25</td>\n",
       "      <td>Lottery Club</td>\n",
       "      <td>686</td>\n",
       "      <td>World vision</td>\n",
       "      <td>37.460664</td>\n",
       "      <td>-3.821329</td>\n",
       "      <td>Kwa Mahundi</td>\n",
       "      <td>0</td>\n",
       "      <td>...</td>\n",
       "      <td>per bucket</td>\n",
       "      <td>soft</td>\n",
       "      <td>good</td>\n",
       "      <td>enough</td>\n",
       "      <td>enough</td>\n",
       "      <td>dam</td>\n",
       "      <td>dam</td>\n",
       "      <td>surface</td>\n",
       "      <td>communal standpipe multiple</td>\n",
       "      <td>communal standpipe</td>\n",
       "    </tr>\n",
       "    <tr>\n",
       "      <th>3</th>\n",
       "      <td>67743</td>\n",
       "      <td>0.0</td>\n",
       "      <td>2013-01-28</td>\n",
       "      <td>Unicef</td>\n",
       "      <td>263</td>\n",
       "      <td>UNICEF</td>\n",
       "      <td>38.486161</td>\n",
       "      <td>-11.155298</td>\n",
       "      <td>Zahanati Ya Nanyumbu</td>\n",
       "      <td>0</td>\n",
       "      <td>...</td>\n",
       "      <td>never pay</td>\n",
       "      <td>soft</td>\n",
       "      <td>good</td>\n",
       "      <td>dry</td>\n",
       "      <td>dry</td>\n",
       "      <td>machine dbh</td>\n",
       "      <td>borehole</td>\n",
       "      <td>groundwater</td>\n",
       "      <td>communal standpipe multiple</td>\n",
       "      <td>communal standpipe</td>\n",
       "    </tr>\n",
       "    <tr>\n",
       "      <th>4</th>\n",
       "      <td>19728</td>\n",
       "      <td>0.0</td>\n",
       "      <td>2011-07-13</td>\n",
       "      <td>Action In A</td>\n",
       "      <td>0</td>\n",
       "      <td>Artisan</td>\n",
       "      <td>31.130847</td>\n",
       "      <td>-1.825359</td>\n",
       "      <td>Shuleni</td>\n",
       "      <td>0</td>\n",
       "      <td>...</td>\n",
       "      <td>never pay</td>\n",
       "      <td>soft</td>\n",
       "      <td>good</td>\n",
       "      <td>seasonal</td>\n",
       "      <td>seasonal</td>\n",
       "      <td>rainwater harvesting</td>\n",
       "      <td>rainwater harvesting</td>\n",
       "      <td>surface</td>\n",
       "      <td>communal standpipe</td>\n",
       "      <td>communal standpipe</td>\n",
       "    </tr>\n",
       "  </tbody>\n",
       "</table>\n",
       "<p>5 rows × 40 columns</p>\n",
       "</div>"
      ],
      "text/plain": [
       "      id  amount_tsh date_recorded        funder  gps_height     installer  \\\n",
       "0  69572      6000.0    2011-03-14         Roman        1390         Roman   \n",
       "1   8776         0.0    2013-03-06       Grumeti        1399       GRUMETI   \n",
       "2  34310        25.0    2013-02-25  Lottery Club         686  World vision   \n",
       "3  67743         0.0    2013-01-28        Unicef         263        UNICEF   \n",
       "4  19728         0.0    2011-07-13   Action In A           0       Artisan   \n",
       "\n",
       "   longitude   latitude              wpt_name  num_private  ... payment_type  \\\n",
       "0  34.938093  -9.856322                  none            0  ...     annually   \n",
       "1  34.698766  -2.147466              Zahanati            0  ...    never pay   \n",
       "2  37.460664  -3.821329           Kwa Mahundi            0  ...   per bucket   \n",
       "3  38.486161 -11.155298  Zahanati Ya Nanyumbu            0  ...    never pay   \n",
       "4  31.130847  -1.825359               Shuleni            0  ...    never pay   \n",
       "\n",
       "  water_quality quality_group      quantity  quantity_group  \\\n",
       "0          soft          good        enough          enough   \n",
       "1          soft          good  insufficient    insufficient   \n",
       "2          soft          good        enough          enough   \n",
       "3          soft          good           dry             dry   \n",
       "4          soft          good      seasonal        seasonal   \n",
       "\n",
       "                 source           source_type  source_class  \\\n",
       "0                spring                spring   groundwater   \n",
       "1  rainwater harvesting  rainwater harvesting       surface   \n",
       "2                   dam                   dam       surface   \n",
       "3           machine dbh              borehole   groundwater   \n",
       "4  rainwater harvesting  rainwater harvesting       surface   \n",
       "\n",
       "               waterpoint_type waterpoint_type_group  \n",
       "0           communal standpipe    communal standpipe  \n",
       "1           communal standpipe    communal standpipe  \n",
       "2  communal standpipe multiple    communal standpipe  \n",
       "3  communal standpipe multiple    communal standpipe  \n",
       "4           communal standpipe    communal standpipe  \n",
       "\n",
       "[5 rows x 40 columns]"
      ]
     },
     "execution_count": 2,
     "metadata": {},
     "output_type": "execute_result"
    }
   ],
   "source": [
    "training_values = pd.read_csv('data/Training_set_values.csv')\n",
    "print(len(training_values))\n",
    "training_values.head()"
   ]
  },
  {
   "cell_type": "code",
   "execution_count": 3,
   "metadata": {},
   "outputs": [
    {
     "name": "stdout",
     "output_type": "stream",
     "text": [
      "<class 'pandas.core.frame.DataFrame'>\n",
      "RangeIndex: 59400 entries, 0 to 59399\n",
      "Data columns (total 40 columns):\n",
      " #   Column                 Non-Null Count  Dtype  \n",
      "---  ------                 --------------  -----  \n",
      " 0   id                     59400 non-null  int64  \n",
      " 1   amount_tsh             59400 non-null  float64\n",
      " 2   date_recorded          59400 non-null  object \n",
      " 3   funder                 55765 non-null  object \n",
      " 4   gps_height             59400 non-null  int64  \n",
      " 5   installer              55745 non-null  object \n",
      " 6   longitude              59400 non-null  float64\n",
      " 7   latitude               59400 non-null  float64\n",
      " 8   wpt_name               59400 non-null  object \n",
      " 9   num_private            59400 non-null  int64  \n",
      " 10  basin                  59400 non-null  object \n",
      " 11  subvillage             59029 non-null  object \n",
      " 12  region                 59400 non-null  object \n",
      " 13  region_code            59400 non-null  int64  \n",
      " 14  district_code          59400 non-null  int64  \n",
      " 15  lga                    59400 non-null  object \n",
      " 16  ward                   59400 non-null  object \n",
      " 17  population             59400 non-null  int64  \n",
      " 18  public_meeting         56066 non-null  object \n",
      " 19  recorded_by            59400 non-null  object \n",
      " 20  scheme_management      55523 non-null  object \n",
      " 21  scheme_name            31234 non-null  object \n",
      " 22  permit                 56344 non-null  object \n",
      " 23  construction_year      59400 non-null  int64  \n",
      " 24  extraction_type        59400 non-null  object \n",
      " 25  extraction_type_group  59400 non-null  object \n",
      " 26  extraction_type_class  59400 non-null  object \n",
      " 27  management             59400 non-null  object \n",
      " 28  management_group       59400 non-null  object \n",
      " 29  payment                59400 non-null  object \n",
      " 30  payment_type           59400 non-null  object \n",
      " 31  water_quality          59400 non-null  object \n",
      " 32  quality_group          59400 non-null  object \n",
      " 33  quantity               59400 non-null  object \n",
      " 34  quantity_group         59400 non-null  object \n",
      " 35  source                 59400 non-null  object \n",
      " 36  source_type            59400 non-null  object \n",
      " 37  source_class           59400 non-null  object \n",
      " 38  waterpoint_type        59400 non-null  object \n",
      " 39  waterpoint_type_group  59400 non-null  object \n",
      "dtypes: float64(3), int64(7), object(30)\n",
      "memory usage: 18.1+ MB\n"
     ]
    }
   ],
   "source": [
    "training_values.info()"
   ]
  },
  {
   "cell_type": "markdown",
   "metadata": {},
   "source": [
    "Investigate funder, installer, subvillage, public_meeting, scheme management, scheme_name, permit\n",
    "\n",
    "- funder:\n",
    "    - 3635 missing values (6.1%)\n",
    "    - Not Known, Unknown,  categories\n",
    "    - 0 category\n",
    "- installer: \n",
    "    - 3655 missing values (6.1%)\n",
    "    - uknown, Unknown, Not known categories\n",
    "- subvillage:\n",
    "    - 371 missing values (0.6%)\n",
    "    - relatively few missing values - drop the offending rows\n",
    "- public_meeting:\n",
    "    - 3334 missing values (5.6%)\n",
    "    - binary true/false\n",
    "    - drop missing rows - want to keep it binary\n",
    "- scheme management:\n",
    "    - 3877 missing values (6.5%)\n",
    "    - will likeley create an \"unknown\" column\n",
    "    - one occurance of None - remove (unable to have an example in both test and training sets)\n",
    "- scheme name:\n",
    "    - 28166 missing values (47.4%)\n",
    "    - too much missing data - drop this \n",
    "- permit:\n",
    "    - 3056 missing values (5.1%)\n",
    "    - binary true/false\n",
    "    - drop missing rows - want to keep it binary\n",
    "    \n",
    "After cleaning, 52,911 data points (89% of original set)"
   ]
  },
  {
   "cell_type": "code",
   "execution_count": 4,
   "metadata": {},
   "outputs": [],
   "source": [
    "## clean up subvillage, permit, and public_meeting columns\n",
    "# remove Nan values\n",
    "training_values = training_values.dropna(axis=0, subset=['permit', 'public_meeting'])"
   ]
  },
  {
   "cell_type": "code",
   "execution_count": 5,
   "metadata": {},
   "outputs": [],
   "source": [
    "## drop scheme_name, wpt_name, longitude, latitude column\n",
    "drop_cols = ['scheme_name', 'wpt_name', 'longitude', 'latitude', 'date_recorded', 'subvillage', 'ward']\n",
    "training_values = training_values.drop(columns=drop_cols, axis=1)"
   ]
  },
  {
   "cell_type": "code",
   "execution_count": 6,
   "metadata": {},
   "outputs": [],
   "source": [
    "## clean up funder column\n",
    "# combine Not Known, Unknown, and Nan categories into one 'Unknown'\n",
    "training_values['funder'] = training_values['funder'].fillna('Unknown')\n",
    "training_values['funder'] = training_values['funder'].map(lambda x: 'Unknown' if 'Not Known' in x else x)\n",
    "\n",
    "# create an \"other\" column for all funders with less than 10 wells\n",
    "small_funders = []\n",
    "for key, value in training_values['funder'].value_counts().to_dict().items():\n",
    "    if value < 16:\n",
    "        small_funders.append(key)\n",
    "        \n",
    "training_values['funder'] = training_values['funder'].map(lambda x: 'Other' if x in small_funders else x)"
   ]
  },
  {
   "cell_type": "code",
   "execution_count": 7,
   "metadata": {},
   "outputs": [],
   "source": [
    "## clean up installer column\n",
    "# combine uknown, Unknown, Not known, and Nan categories into one 'Unknown'\n",
    "training_values['installer'] = training_values['installer'].fillna('Unknown')\n",
    "training_values['installer'] = training_values['installer'].map(lambda x: 'Unknown' if 'Not known' in x else x)\n",
    "training_values['installer'] = training_values['installer'].map(lambda x: 'Unknown' if 'unknown' in x else x)\n",
    "\n",
    "# create an \"other\" column for all installers with less than 10 wells\n",
    "small_installers = []\n",
    "for key, value in training_values['installer'].value_counts().to_dict().items():\n",
    "    if value < 15:\n",
    "        small_installers.append(key)\n",
    "        \n",
    "training_values['installer'] = training_values['installer'].map(lambda x: 'Other' if x in small_installers else x)"
   ]
  },
  {
   "cell_type": "code",
   "execution_count": 8,
   "metadata": {},
   "outputs": [],
   "source": [
    "## clean up scheme_management column\n",
    "# convert Nan values into one 'Unknown'\n",
    "training_values['scheme_management'] = training_values['scheme_management'].fillna('Unknown')\n",
    "\n",
    "# remove one row with \"None\"\n",
    "training_values = training_values[training_values['scheme_management'] != 'None']"
   ]
  },
  {
   "cell_type": "code",
   "execution_count": 9,
   "metadata": {},
   "outputs": [
    {
     "data": {
      "text/plain": [
       "gravity              24339\n",
       "nira/tanira           7265\n",
       "other                 5641\n",
       "submersible           3971\n",
       "swn 80                3491\n",
       "mono                  2516\n",
       "india mark ii         2261\n",
       "afridev               1530\n",
       "ksb                   1334\n",
       "other - rope pump      278\n",
       "other - swn 81         208\n",
       "windmill               104\n",
       "cemo                    90\n",
       "india mark iii          88\n",
       "other - play pump       84\n",
       "walimi                  46\n",
       "climax                  32\n",
       "Name: extraction_type, dtype: int64"
      ]
     },
     "execution_count": 9,
     "metadata": {},
     "output_type": "execute_result"
    }
   ],
   "source": [
    "training_values = training_values[training_values['extraction_type'] != 'other - mkulima/shinyanga']\n",
    "training_values['extraction_type'].value_counts()"
   ]
  },
  {
   "cell_type": "code",
   "execution_count": 10,
   "metadata": {},
   "outputs": [
    {
     "data": {
      "text/plain": [
       "Njombe           2500\n",
       "Moshi Rural      1228\n",
       "Arusha Rural     1197\n",
       "Kilosa           1070\n",
       "Kasulu           1045\n",
       "                 ... \n",
       "Kigoma Urban       69\n",
       "Serengeti          53\n",
       "Ilala              36\n",
       "Lindi Urban        21\n",
       "Singida Rural      17\n",
       "Name: lga, Length: 121, dtype: int64"
      ]
     },
     "execution_count": 10,
     "metadata": {},
     "output_type": "execute_result"
    }
   ],
   "source": [
    "# remove one row with \"Nyamagana\"\n",
    "training_values = training_values[training_values['lga'] != 'Nyamagana']\n",
    "training_values['lga'].value_counts()"
   ]
  },
  {
   "cell_type": "code",
   "execution_count": 11,
   "metadata": {
    "scrolled": false
   },
   "outputs": [
    {
     "name": "stdout",
     "output_type": "stream",
     "text": [
      "id: 53277\n",
      "amount_tsh: 91\n",
      "funder: 302\n",
      "gps_height: 2426\n",
      "installer: 304\n",
      "num_private: 61\n",
      "basin: 9\n",
      "region: 21\n",
      "region_code: 27\n",
      "district_code: 20\n",
      "lga: 121\n",
      "population: 1006\n",
      "public_meeting: 2\n",
      "recorded_by: 1\n",
      "scheme_management: 12\n",
      "permit: 2\n",
      "construction_year: 55\n",
      "extraction_type: 17\n",
      "extraction_type_group: 13\n",
      "extraction_type_class: 7\n",
      "management: 12\n",
      "management_group: 5\n",
      "payment: 7\n",
      "payment_type: 7\n",
      "water_quality: 8\n",
      "quality_group: 6\n",
      "quantity: 5\n",
      "quantity_group: 5\n",
      "source: 10\n",
      "source_type: 7\n",
      "source_class: 3\n",
      "waterpoint_type: 7\n",
      "waterpoint_type_group: 6\n"
     ]
    }
   ],
   "source": [
    "for col in list(training_values.columns):\n",
    "    print(f'{col}: {len(training_values[col].value_counts())}')\n",
    "# not dummy variables\n",
    "# id, gps_height, population, construction_year"
   ]
  },
  {
   "cell_type": "markdown",
   "metadata": {},
   "source": [
    "## Training Set Labels"
   ]
  },
  {
   "cell_type": "markdown",
   "metadata": {},
   "source": [
    "restrict the training set labels to only contain ids that are included in the cleaned training values dataset"
   ]
  },
  {
   "cell_type": "code",
   "execution_count": 12,
   "metadata": {},
   "outputs": [
    {
     "data": {
      "text/plain": [
       "functional                 32259\n",
       "non functional             22824\n",
       "functional needs repair     4317\n",
       "Name: status_group, dtype: int64"
      ]
     },
     "execution_count": 12,
     "metadata": {},
     "output_type": "execute_result"
    }
   ],
   "source": [
    "training_labels = pd.read_csv('data/Training_set_labels.csv')\n",
    "training_labels.status_group.value_counts()"
   ]
  },
  {
   "cell_type": "code",
   "execution_count": 13,
   "metadata": {},
   "outputs": [
    {
     "name": "stdout",
     "output_type": "stream",
     "text": [
      "53277\n"
     ]
    }
   ],
   "source": [
    "mask = training_labels['id'].isin(list(training_values.id))\n",
    "training_labels = training_labels[mask]\n",
    "print(len(training_values))"
   ]
  },
  {
   "cell_type": "markdown",
   "metadata": {},
   "source": [
    "# Data Prep\n",
    "prep data to be used in a classification problem"
   ]
  },
  {
   "cell_type": "markdown",
   "metadata": {},
   "source": [
    "## Split the given training set into a train set and a test set"
   ]
  },
  {
   "cell_type": "code",
   "execution_count": 14,
   "metadata": {},
   "outputs": [],
   "source": [
    "X = training_values.drop(columns=['id'], axis=1)\n",
    "y = training_labels['status_group']"
   ]
  },
  {
   "cell_type": "code",
   "execution_count": 15,
   "metadata": {},
   "outputs": [],
   "source": [
    "SEED = 42"
   ]
  },
  {
   "cell_type": "code",
   "execution_count": 16,
   "metadata": {},
   "outputs": [],
   "source": [
    "X_train, X_test, y_train, y_test = train_test_split(X, y, test_size=0.3, random_state=SEED)"
   ]
  },
  {
   "cell_type": "markdown",
   "metadata": {},
   "source": [
    "## Encode categorical data as numbers"
   ]
  },
  {
   "cell_type": "code",
   "execution_count": 17,
   "metadata": {},
   "outputs": [],
   "source": [
    "# identify the non categorical columns that will not be included in the one hot encoding\n",
    "non_categorical_cols = ['amount_tsh', 'gps_height', 'population', 'construction_year', 'num_private', 'region_code']"
   ]
  },
  {
   "cell_type": "code",
   "execution_count": 18,
   "metadata": {},
   "outputs": [],
   "source": [
    "# initialize the One Hot Encoder\n",
    "ohe = OneHotEncoder()"
   ]
  },
  {
   "cell_type": "code",
   "execution_count": 19,
   "metadata": {},
   "outputs": [
    {
     "name": "stdout",
     "output_type": "stream",
     "text": [
      "925\n",
      "925\n"
     ]
    }
   ],
   "source": [
    "def encode_X(X, non_categorical_cols):\n",
    "    categorical_df = X.drop(columns=non_categorical_cols, axis=1)\n",
    "    non_categorical_df = X[non_categorical_cols]\n",
    "\n",
    "    X_ohe_categorical = ohe.fit_transform(categorical_df).toarray()\n",
    "    ohe_df = pd.DataFrame(X_ohe_categorical, columns=ohe.get_feature_names(categorical_df.columns))\n",
    "\n",
    "    X_ohe = pd.concat([ohe_df, non_categorical_df], axis=1)\n",
    "\n",
    "    ohe_df['ind'] = categorical_df.index\n",
    "    ohe_df = ohe_df.set_index('ind')\n",
    "    ohe_df.head()\n",
    "\n",
    "    X_ohe_final = pd.concat([ohe_df, non_categorical_df], axis=1)\n",
    "    \n",
    "    print(len(X_ohe_final.columns))\n",
    "    \n",
    "    return X_ohe_final\n",
    "\n",
    "X_train_ohe = encode_X(X_train, non_categorical_cols)\n",
    "X_test_ohe = encode_X(X_test, non_categorical_cols)"
   ]
  },
  {
   "cell_type": "markdown",
   "metadata": {},
   "source": [
    "# Functions for Evaluating Model Performance"
   ]
  },
  {
   "cell_type": "code",
   "execution_count": 48,
   "metadata": {},
   "outputs": [],
   "source": [
    "# function to perform one hot encoding on the y results\n",
    "def create_y_ohe(y, columns):\n",
    "    ohe = OneHotEncoder()\n",
    "    y_df = pd.DataFrame(y, columns=columns)\n",
    "    y_ohe = ohe.fit_transform(y_df).toarray()\n",
    "    y_ohe_df = pd.DataFrame(y_ohe, columns=ohe.get_feature_names(y_df.columns))\n",
    "    return y_ohe_df\n",
    "\n",
    "    \n",
    "# functional subset accuracy\n",
    "def performance_metrics(y_test, y_pred):\n",
    "\n",
    "    accuracy = accuracy_score(y_test, y_pred)\n",
    "    precision = precision_score(y_test, y_pred)\n",
    "    recall = recall_score(y_test, y_pred)\n",
    "\n",
    "    false_positive_rate, true_positive_rate, thresholds = roc_curve(y_test, y_pred)\n",
    "    roc_auc = auc(false_positive_rate, true_positive_rate)\n",
    "    \n",
    "    results = {\n",
    "        'accuracy': accuracy,\n",
    "        'precision': precision,\n",
    "        'recall': recall, \n",
    "        'auc': roc_auc\n",
    "    }\n",
    "    \n",
    "    return results\n",
    "\n",
    "\n",
    "def evaluate_sbuset_performance(y_test_ohe_df, y_pred_ohe_df):\n",
    "    subsets = ['status_group_functional', 'status_group_functional needs repair', 'status_group_non functional']\n",
    "    \n",
    "    final_results = {}\n",
    "    \n",
    "    for subset in subsets:\n",
    "        y_pred = y_pred_ohe_df[subset]\n",
    "        y_test = y_test_ohe_df[subset]\n",
    "        \n",
    "        results = performance_metrics(y_test, y_pred)\n",
    "        final_results[subset] = results\n",
    "    \n",
    "    return final_results\n",
    "        \n",
    "\n",
    "def evaluate_model_performance(y_test, y_pred):\n",
    "    y_test_ohe_df = create_y_ohe(y_test, columns=['status_group'])\n",
    "    y_pred_ohe_df = create_y_ohe(y_pred, columns=['status_group'])\n",
    "    \n",
    "    subset_results = evaluate_sbuset_performance(y_test_ohe_df, y_pred_ohe_df)\n",
    "    \n",
    "    accuracy = []\n",
    "    precision = []\n",
    "    recall = []\n",
    "    auc = []\n",
    "    for subset in subset_results.keys():\n",
    "        accuracy.append(subset_results[subset]['accuracy'])\n",
    "        precision.append(subset_results[subset]['precision'])\n",
    "        recall.append(subset_results[subset]['recall'])\n",
    "        auc.append(subset_results[subset]['auc'])\n",
    "    \n",
    "    avg_accuracy = np.array(accuracy).mean()\n",
    "    avg_precision = np.array(precision).mean()\n",
    "    avg_recall = np.array(recall).mean()\n",
    "    avg_auc = np.array(auc).mean()\n",
    "    \n",
    "    results = {\n",
    "        'accuracy': avg_accuracy,\n",
    "        'precision': avg_precision,\n",
    "        'recall': avg_recall,\n",
    "        'auc': avg_auc\n",
    "    }\n",
    "    \n",
    "    return results"
   ]
  },
  {
   "cell_type": "markdown",
   "metadata": {},
   "source": [
    "# Base Model"
   ]
  },
  {
   "cell_type": "markdown",
   "metadata": {},
   "source": [
    "## Train the tree"
   ]
  },
  {
   "cell_type": "code",
   "execution_count": 22,
   "metadata": {},
   "outputs": [
    {
     "data": {
      "text/plain": [
       "DecisionTreeClassifier(criterion='entropy', random_state=42)"
      ]
     },
     "execution_count": 22,
     "metadata": {},
     "output_type": "execute_result"
    }
   ],
   "source": [
    "clf_base = DecisionTreeClassifier(criterion='entropy', random_state=SEED)\n",
    "clf_base.fit(X_train_ohe, y_train)"
   ]
  },
  {
   "cell_type": "markdown",
   "metadata": {},
   "source": [
    "## Fit the Tree"
   ]
  },
  {
   "cell_type": "code",
   "execution_count": 23,
   "metadata": {},
   "outputs": [],
   "source": [
    "y_pred_base = clf_base.predict(X_test_ohe)"
   ]
  },
  {
   "cell_type": "code",
   "execution_count": 24,
   "metadata": {},
   "outputs": [
    {
     "data": {
      "text/html": [
       "<div>\n",
       "<style scoped>\n",
       "    .dataframe tbody tr th:only-of-type {\n",
       "        vertical-align: middle;\n",
       "    }\n",
       "\n",
       "    .dataframe tbody tr th {\n",
       "        vertical-align: top;\n",
       "    }\n",
       "\n",
       "    .dataframe thead th {\n",
       "        text-align: right;\n",
       "    }\n",
       "</style>\n",
       "<table border=\"1\" class=\"dataframe\">\n",
       "  <thead>\n",
       "    <tr style=\"text-align: right;\">\n",
       "      <th></th>\n",
       "      <th>funder_0</th>\n",
       "      <th>funder_Aar</th>\n",
       "      <th>funder_Abasia</th>\n",
       "      <th>funder_Acra</th>\n",
       "      <th>funder_Adb</th>\n",
       "      <th>funder_Adp</th>\n",
       "      <th>funder_Adra</th>\n",
       "      <th>funder_African</th>\n",
       "      <th>funder_African Development Bank</th>\n",
       "      <th>funder_Aict</th>\n",
       "      <th>...</th>\n",
       "      <th>waterpoint_type_group_dam</th>\n",
       "      <th>waterpoint_type_group_hand pump</th>\n",
       "      <th>waterpoint_type_group_improved spring</th>\n",
       "      <th>waterpoint_type_group_other</th>\n",
       "      <th>amount_tsh</th>\n",
       "      <th>gps_height</th>\n",
       "      <th>population</th>\n",
       "      <th>construction_year</th>\n",
       "      <th>num_private</th>\n",
       "      <th>region_code</th>\n",
       "    </tr>\n",
       "  </thead>\n",
       "  <tbody>\n",
       "    <tr>\n",
       "      <th>37787</th>\n",
       "      <td>0.0</td>\n",
       "      <td>0.0</td>\n",
       "      <td>0.0</td>\n",
       "      <td>0.0</td>\n",
       "      <td>0.0</td>\n",
       "      <td>0.0</td>\n",
       "      <td>0.0</td>\n",
       "      <td>0.0</td>\n",
       "      <td>0.0</td>\n",
       "      <td>0.0</td>\n",
       "      <td>...</td>\n",
       "      <td>0.0</td>\n",
       "      <td>0.0</td>\n",
       "      <td>0.0</td>\n",
       "      <td>0.0</td>\n",
       "      <td>50.0</td>\n",
       "      <td>986</td>\n",
       "      <td>1200</td>\n",
       "      <td>2009</td>\n",
       "      <td>0</td>\n",
       "      <td>2</td>\n",
       "    </tr>\n",
       "    <tr>\n",
       "      <th>601</th>\n",
       "      <td>0.0</td>\n",
       "      <td>0.0</td>\n",
       "      <td>0.0</td>\n",
       "      <td>0.0</td>\n",
       "      <td>0.0</td>\n",
       "      <td>0.0</td>\n",
       "      <td>0.0</td>\n",
       "      <td>0.0</td>\n",
       "      <td>0.0</td>\n",
       "      <td>0.0</td>\n",
       "      <td>...</td>\n",
       "      <td>0.0</td>\n",
       "      <td>1.0</td>\n",
       "      <td>0.0</td>\n",
       "      <td>0.0</td>\n",
       "      <td>0.0</td>\n",
       "      <td>873</td>\n",
       "      <td>368</td>\n",
       "      <td>2000</td>\n",
       "      <td>0</td>\n",
       "      <td>13</td>\n",
       "    </tr>\n",
       "    <tr>\n",
       "      <th>3994</th>\n",
       "      <td>0.0</td>\n",
       "      <td>0.0</td>\n",
       "      <td>0.0</td>\n",
       "      <td>0.0</td>\n",
       "      <td>0.0</td>\n",
       "      <td>0.0</td>\n",
       "      <td>0.0</td>\n",
       "      <td>0.0</td>\n",
       "      <td>0.0</td>\n",
       "      <td>0.0</td>\n",
       "      <td>...</td>\n",
       "      <td>0.0</td>\n",
       "      <td>1.0</td>\n",
       "      <td>0.0</td>\n",
       "      <td>0.0</td>\n",
       "      <td>0.0</td>\n",
       "      <td>0</td>\n",
       "      <td>0</td>\n",
       "      <td>0</td>\n",
       "      <td>0</td>\n",
       "      <td>17</td>\n",
       "    </tr>\n",
       "    <tr>\n",
       "      <th>54323</th>\n",
       "      <td>0.0</td>\n",
       "      <td>0.0</td>\n",
       "      <td>0.0</td>\n",
       "      <td>0.0</td>\n",
       "      <td>0.0</td>\n",
       "      <td>0.0</td>\n",
       "      <td>0.0</td>\n",
       "      <td>0.0</td>\n",
       "      <td>0.0</td>\n",
       "      <td>0.0</td>\n",
       "      <td>...</td>\n",
       "      <td>0.0</td>\n",
       "      <td>1.0</td>\n",
       "      <td>0.0</td>\n",
       "      <td>0.0</td>\n",
       "      <td>1000.0</td>\n",
       "      <td>1425</td>\n",
       "      <td>329</td>\n",
       "      <td>1986</td>\n",
       "      <td>0</td>\n",
       "      <td>13</td>\n",
       "    </tr>\n",
       "    <tr>\n",
       "      <th>51017</th>\n",
       "      <td>0.0</td>\n",
       "      <td>0.0</td>\n",
       "      <td>0.0</td>\n",
       "      <td>0.0</td>\n",
       "      <td>0.0</td>\n",
       "      <td>0.0</td>\n",
       "      <td>0.0</td>\n",
       "      <td>0.0</td>\n",
       "      <td>0.0</td>\n",
       "      <td>0.0</td>\n",
       "      <td>...</td>\n",
       "      <td>0.0</td>\n",
       "      <td>0.0</td>\n",
       "      <td>0.0</td>\n",
       "      <td>1.0</td>\n",
       "      <td>0.0</td>\n",
       "      <td>0</td>\n",
       "      <td>0</td>\n",
       "      <td>0</td>\n",
       "      <td>0</td>\n",
       "      <td>17</td>\n",
       "    </tr>\n",
       "  </tbody>\n",
       "</table>\n",
       "<p>5 rows × 925 columns</p>\n",
       "</div>"
      ],
      "text/plain": [
       "       funder_0  funder_Aar  funder_Abasia  funder_Acra  funder_Adb  \\\n",
       "37787       0.0         0.0            0.0          0.0         0.0   \n",
       "601         0.0         0.0            0.0          0.0         0.0   \n",
       "3994        0.0         0.0            0.0          0.0         0.0   \n",
       "54323       0.0         0.0            0.0          0.0         0.0   \n",
       "51017       0.0         0.0            0.0          0.0         0.0   \n",
       "\n",
       "       funder_Adp  funder_Adra  funder_African  \\\n",
       "37787         0.0          0.0             0.0   \n",
       "601           0.0          0.0             0.0   \n",
       "3994          0.0          0.0             0.0   \n",
       "54323         0.0          0.0             0.0   \n",
       "51017         0.0          0.0             0.0   \n",
       "\n",
       "       funder_African Development Bank  funder_Aict  ...  \\\n",
       "37787                              0.0          0.0  ...   \n",
       "601                                0.0          0.0  ...   \n",
       "3994                               0.0          0.0  ...   \n",
       "54323                              0.0          0.0  ...   \n",
       "51017                              0.0          0.0  ...   \n",
       "\n",
       "       waterpoint_type_group_dam  waterpoint_type_group_hand pump  \\\n",
       "37787                        0.0                              0.0   \n",
       "601                          0.0                              1.0   \n",
       "3994                         0.0                              1.0   \n",
       "54323                        0.0                              1.0   \n",
       "51017                        0.0                              0.0   \n",
       "\n",
       "       waterpoint_type_group_improved spring  waterpoint_type_group_other  \\\n",
       "37787                                    0.0                          0.0   \n",
       "601                                      0.0                          0.0   \n",
       "3994                                     0.0                          0.0   \n",
       "54323                                    0.0                          0.0   \n",
       "51017                                    0.0                          1.0   \n",
       "\n",
       "       amount_tsh  gps_height  population  construction_year  num_private  \\\n",
       "37787        50.0         986        1200               2009            0   \n",
       "601           0.0         873         368               2000            0   \n",
       "3994          0.0           0           0                  0            0   \n",
       "54323      1000.0        1425         329               1986            0   \n",
       "51017         0.0           0           0                  0            0   \n",
       "\n",
       "       region_code  \n",
       "37787            2  \n",
       "601             13  \n",
       "3994            17  \n",
       "54323           13  \n",
       "51017           17  \n",
       "\n",
       "[5 rows x 925 columns]"
      ]
     },
     "execution_count": 24,
     "metadata": {},
     "output_type": "execute_result"
    }
   ],
   "source": [
    "X_test_ohe.head()"
   ]
  },
  {
   "cell_type": "markdown",
   "metadata": {},
   "source": [
    "## Evaluate the performance"
   ]
  },
  {
   "cell_type": "code",
   "execution_count": 49,
   "metadata": {},
   "outputs": [
    {
     "name": "stdout",
     "output_type": "stream",
     "text": [
      "Model 1 Performance\n",
      "  accuracy = 0.8381297964631297\n",
      "  precision = 0.652273865684135\n",
      "  recall = 0.6458765489972248\n",
      "  auc = 0.749844999538722\n"
     ]
    }
   ],
   "source": [
    "results = evaluate_model_performance(y_test.values, y_pred_base)\n",
    "\n",
    "print(f'Model 1 Performance')\n",
    "print(f'  accuracy = {results[\"accuracy\"]}')\n",
    "print(f'  precision = {results[\"precision\"]}')\n",
    "print(f'  recall = {results[\"recall\"]}')\n",
    "print(f'  auc = {results[\"auc\"]}')"
   ]
  },
  {
   "cell_type": "markdown",
   "metadata": {},
   "source": [
    "We have an accuracy of 84% with no model tailoring - what about over fitting"
   ]
  },
  {
   "cell_type": "markdown",
   "metadata": {},
   "source": [
    "# Hyperparemeter Tuning"
   ]
  },
  {
   "cell_type": "markdown",
   "metadata": {},
   "source": [
    "### Function to perform the tuning"
   ]
  },
  {
   "cell_type": "code",
   "execution_count": 158,
   "metadata": {},
   "outputs": [],
   "source": [
    "def investigate_parameter(param_name, param_values, max_depth=None, min_samples_leaf=1, min_samples_split=2, max_features=None):\n",
    "    \n",
    "    train_auc = []\n",
    "    test_auc = []\n",
    "    \n",
    "    train_accuracy = []\n",
    "    test_accuracy = []\n",
    "    \n",
    "    train_precision = []\n",
    "    test_precision = []\n",
    "\n",
    "    for value in param_values:\n",
    "        \n",
    "#         print(value)\n",
    "        \n",
    "        if param_name == 'max_depth': \n",
    "            dt = DecisionTreeClassifier(criterion='entropy', \n",
    "                                        max_depth=value,\n",
    "                                        min_samples_leaf=min_samples_leaf,\n",
    "                                        min_samples_split=min_samples_split,\n",
    "                                        max_features=max_features,\n",
    "                                        random_state=SEED)\n",
    "        elif param_name == 'min_samples_leaf':\n",
    "            dt = DecisionTreeClassifier(criterion='entropy',  \n",
    "                                        max_depth=max_depth,\n",
    "                                        min_samples_leaf=value,\n",
    "                                        min_samples_split=min_samples_split,\n",
    "                                        max_features=max_features,\n",
    "                                        random_state=SEED)\n",
    "        elif param_name == 'min_samples_split':\n",
    "            dt = DecisionTreeClassifier(criterion='entropy', \n",
    "                                        max_depth=max_depth,\n",
    "                                        min_samples_leaf=min_samples_leaf,\n",
    "                                        min_samples_split=value,\n",
    "                                        max_features=max_features,\n",
    "                                        random_state=SEED)\n",
    "        elif param_name == 'max_features':\n",
    "            dt = DecisionTreeClassifier(criterion='entropy', \n",
    "                                        max_depth=max_depth,\n",
    "                                        min_samples_leaf=min_samples_leaf,\n",
    "                                        min_samples_split=min_samples_split,\n",
    "                                        max_features=value, \n",
    "                                        random_state=SEED)\n",
    "        \n",
    "        dt.fit(X_train_ohe, y_train)\n",
    "\n",
    "        train_pred = dt.predict(X_train_ohe)\n",
    "        test_pred = dt.predict(X_test_ohe)\n",
    "\n",
    "        test_performance = evaluate_model_performance(y_test, test_pred)\n",
    "        train_performance = evaluate_model_performance(y_train, train_pred)\n",
    "\n",
    "        train_auc.append(train_performance['auc'])\n",
    "        test_auc.append(test_performance['auc'])\n",
    "        \n",
    "        train_precision.append(train_performance['precision'])\n",
    "        test_precision.append(test_performance['precision'])\n",
    "        \n",
    "        train_accuracy.append(train_performance['accuracy'])\n",
    "        test_accuracy.append(test_performance['accuracy'])\n",
    "\n",
    "    plt.figure(figsize=(15, 8))\n",
    "    plt.plot(param_values, train_auc, label='train auc')\n",
    "    plt.plot(param_values, test_auc, label='test auc')\n",
    "    plt.grid()\n",
    "    plt.xlabel(param_name)\n",
    "    plt.ylabel('auc')\n",
    "    plt.legend()\n",
    "    plt.show()\n",
    "    \n",
    "    plt.figure(figsize=(15, 8))\n",
    "    plt.plot(param_values, test_precision, label='test precision')\n",
    "    plt.plot(param_values, test_accuracy, label='test accuracy')\n",
    "    plt.grid()\n",
    "    plt.xlabel(param_name)\n",
    "    plt.ylabel('auc')\n",
    "    plt.legend()\n",
    "    plt.show()\n",
    "    "
   ]
  },
  {
   "cell_type": "markdown",
   "metadata": {},
   "source": [
    "## Max Depth"
   ]
  },
  {
   "cell_type": "code",
   "execution_count": 159,
   "metadata": {
    "scrolled": false
   },
   "outputs": [
    {
     "data": {
      "image/png": "[encoded data removed]",
      "text/plain": [
       "<Figure size 1080x576 with 1 Axes>"
      ]
     },
     "metadata": {
      "needs_background": "light"
     },
     "output_type": "display_data"
    },
    {
     "data": {
      "image/png": "[encoded data removed]",
      "text/plain": [
       "<Figure size 1080x576 with 1 Axes>"
      ]
     },
     "metadata": {
      "needs_background": "light"
     },
     "output_type": "display_data"
    }
   ],
   "source": [
    "max_depths = list(range(5,50))\n",
    "investigate_parameter(param_name='max_depth', param_values=max_depths)    "
   ]
  },
  {
   "cell_type": "markdown",
   "metadata": {},
   "source": [
    "### Results\n",
    "the test results auc flattens out around 30, but the max occurs at 43"
   ]
  },
  {
   "cell_type": "code",
   "execution_count": 152,
   "metadata": {},
   "outputs": [],
   "source": [
    "selected_max_depth = 43"
   ]
  },
  {
   "cell_type": "code",
   "execution_count": 153,
   "metadata": {},
   "outputs": [],
   "source": [
    "clf2 = DecisionTreeClassifier(criterion='entropy', \n",
    "                             max_depth=selected_max_depth,\n",
    "                             random_state=SEED)\n",
    "clf2.fit(X_train_ohe, y_train)\n",
    "y_pred_2 = clf2.predict(X_test_ohe)"
   ]
  },
  {
   "cell_type": "code",
   "execution_count": 154,
   "metadata": {},
   "outputs": [
    {
     "name": "stdout",
     "output_type": "stream",
     "text": [
      "Model 1 Performance\n",
      "  accuracy = 0.8394644644644645\n",
      "  precision = 0.6548271301584208\n",
      "  recall = 0.646794431959394\n",
      "  auc = 0.7505784866032298\n"
     ]
    }
   ],
   "source": [
    "results2 = evaluate_model_performance(y_test.values, y_pred_2)\n",
    "\n",
    "print(f'Model 1 Performance')\n",
    "print(f'  accuracy = {results2[\"accuracy\"]}')\n",
    "print(f'  precision = {results2[\"precision\"]}')\n",
    "print(f'  recall = {results2[\"recall\"]}')\n",
    "print(f'  auc = {results2[\"auc\"]}')"
   ]
  },
  {
   "cell_type": "markdown",
   "metadata": {},
   "source": [
    "## Min Samples Leaf"
   ]
  },
  {
   "cell_type": "code",
   "execution_count": 155,
   "metadata": {
    "scrolled": false
   },
   "outputs": [
    {
     "data": {
      "image/png": "[encoded data removed]",
      "text/plain": [
       "<Figure size 1080x576 with 1 Axes>"
      ]
     },
     "metadata": {
      "needs_background": "light"
     },
     "output_type": "display_data"
    }
   ],
   "source": [
    "min_samples_leaf = np.linspace(0.00005, 0.001, 20, endpoint=True)\n",
    "investigate_parameter(param_name='min_samples_leaf', param_values=min_samples_leaf, max_depth=selected_max_depth)  "
   ]
  },
  {
   "cell_type": "markdown",
   "metadata": {},
   "source": [
    "## Max Features"
   ]
  },
  {
   "cell_type": "code",
   "execution_count": 131,
   "metadata": {},
   "outputs": [
    {
     "data": {
      "image/png": "[encoded data removed]",
      "text/plain": [
       "<Figure size 1080x576 with 1 Axes>"
      ]
     },
     "metadata": {
      "needs_background": "light"
     },
     "output_type": "display_data"
    }
   ],
   "source": [
    "max_features = list(range(1, 13))\n",
    "investigate_parameter(param_name='max_features', param_values=max_features, max_depth=selected_max_depth)  "
   ]
  },
  {
   "cell_type": "markdown",
   "metadata": {},
   "source": [
    "### Results\n",
    "AUC peaks at 9"
   ]
  },
  {
   "cell_type": "code",
   "execution_count": 132,
   "metadata": {},
   "outputs": [],
   "source": [
    "selected_max_features = 9"
   ]
  },
  {
   "cell_type": "markdown",
   "metadata": {},
   "source": [
    "# Final Model"
   ]
  },
  {
   "cell_type": "code",
   "execution_count": 136,
   "metadata": {},
   "outputs": [],
   "source": [
    "clf2 = DecisionTreeClassifier(criterion='entropy', \n",
    "                             max_depth=selected_max_depth,\n",
    "                             max_features=selected_max_features,\n",
    "                             random_state=SEED)\n",
    "clf2.fit(X_train_ohe_final, y_train)\n",
    "y_pred_2 = clf2.predict(X_test_ohe_final)"
   ]
  },
  {
   "cell_type": "code",
   "execution_count": 137,
   "metadata": {},
   "outputs": [
    {
     "name": "stdout",
     "output_type": "stream",
     "text": [
      "Model 1 Performance\n",
      "  accuracy = 0.809079837050103\n",
      "  precision = 0.6345454634508579\n",
      "  recall = 0.5551147201983635\n",
      "  auc = 0.684356007330336\n"
     ]
    }
   ],
   "source": [
    "results = evaluate_model_performance(y_test, y_pred_2)\n",
    "\n",
    "print(f'Model 1 Performance')\n",
    "print(f'  accuracy = {results[\"accuracy\"]}')\n",
    "print(f'  precision = {results[\"precision\"]}')\n",
    "print(f'  recall = {results[\"recall\"]}')\n",
    "print(f'  auc = {results[\"auc\"]}')"
   ]
  },
  {
   "cell_type": "code",
   "execution_count": null,
   "metadata": {},
   "outputs": [],
   "source": []
  }
 ],
 "metadata": {
  "kernelspec": {
   "display_name": "Python 3",
   "language": "python",
   "name": "python3"
  },
  "language_info": {
   "codemirror_mode": {
    "name": "ipython",
    "version": 3
   },
   "file_extension": ".py",
   "mimetype": "text/x-python",
   "name": "python",
   "nbconvert_exporter": "python",
   "pygments_lexer": "ipython3",
   "version": "3.8.5"
  }
 },
 "nbformat": 4,
 "nbformat_minor": 2
}
